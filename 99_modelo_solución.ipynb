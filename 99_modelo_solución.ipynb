{
  "nbformat": 4,
  "nbformat_minor": 0,
  "metadata": {
    "colab": {
      "provenance": [],
      "include_colab_link": true
    },
    "kernelspec": {
      "name": "python3",
      "display_name": "Python 3"
    },
    "language_info": {
      "name": "python"
    }
  },
  "cells": [
    {
      "cell_type": "markdown",
      "metadata": {
        "id": "view-in-github",
        "colab_type": "text"
      },
      "source": [
        "<a href=\"https://colab.research.google.com/github/josedvelez1/Kaggle/blob/main/99_modelo_soluci%C3%B3n.ipynb\" target=\"_parent\"><img src=\"https://colab.research.google.com/assets/colab-badge.svg\" alt=\"Open In Colab\"/></a>"
      ]
    },
    {
      "cell_type": "markdown",
      "source": [
        "# Modelo Solución con Árbol de Decisiones"
      ],
      "metadata": {
        "id": "i5NVE1DD1v2P"
      }
    },
    {
      "cell_type": "code",
      "execution_count": null,
      "metadata": {
        "colab": {
          "base_uri": "https://localhost:8080/"
        },
        "id": "tbfewQBD1GxM",
        "outputId": "734f0675-9fb1-4b8e-88d1-7a686b68cd35"
      },
      "outputs": [
        {
          "output_type": "stream",
          "name": "stdout",
          "text": [
            "Requirement already satisfied: Unidecode in /usr/local/lib/python3.10/dist-packages (1.3.8)\n"
          ]
        }
      ],
      "source": [
        "import numpy as np\n",
        "import pandas as pd\n",
        "import seaborn as sns\n",
        "import matplotlib.pyplot as plt\n",
        "%matplotlib inline\n",
        "!pip install Unidecode\n",
        "import unidecode\n",
        "from sklearn.tree import DecisionTreeClassifier\n",
        "from sklearn.model_selection import GridSearchCV, train_test_split\n",
        "from sklearn.preprocessing import LabelEncoder\n",
        "from sklearn.metrics import accuracy_score, classification_report"
      ]
    },
    {
      "cell_type": "markdown",
      "source": [
        "## Lectura del archivo"
      ],
      "metadata": {
        "id": "XZVKWadH2ZIn"
      }
    },
    {
      "cell_type": "code",
      "source": [
        "students_df = pd.read_csv(\"train.csv\")\n",
        "test_df = pd.read_csv(\"test.csv\")\n",
        "test_df.shape"
      ],
      "metadata": {
        "id": "zQ0lMunM2YS_",
        "colab": {
          "base_uri": "https://localhost:8080/"
        },
        "outputId": "f1d1c483-0d12-42b0-8aa1-221c1bc8b611"
      },
      "execution_count": null,
      "outputs": [
        {
          "output_type": "execute_result",
          "data": {
            "text/plain": [
              "(296786, 12)"
            ]
          },
          "metadata": {},
          "execution_count": 12
        }
      ]
    },
    {
      "cell_type": "markdown",
      "source": [
        "## Limpieza de los datos"
      ],
      "metadata": {
        "id": "FksjDqBf2cnB"
      }
    },
    {
      "cell_type": "code",
      "source": [
        "# Las funciones también fueron extraidas de los Colabs compartidos por el profesor\n",
        "def to_onehot(x):\n",
        "    values = np.unique(x)\n",
        "    r = np.r_[[np.argwhere(i==values)[0][0] for i in x]]\n",
        "    return np.eye(len(values))[r].astype(int)\n",
        "\n",
        "def replace_column_with_onehot(d, col):\n",
        "    assert sum(d[col].isna())==0, \"column must have no NaN values\"\n",
        "    values = np.unique(d[col])\n",
        "    k = to_onehot(d[col].values)\n",
        "    r = d.join(pd.DataFrame(k, columns=[\"%s_%s\"%(col, values[i]) for i in range(k.shape[1])], index=d.index), how='outer')\n",
        "    del(r[col])\n",
        "    return r\n",
        "\n",
        "def replace_category_for_numbers(d, col, vals_to_change):\n",
        "  r = d.copy()\n",
        "  r[col] = r[col].replace(vals_to_change.keys(), vals_to_change.values())\n",
        "  return r\n",
        "\n",
        "def replace_word(word, sentence: str):\n",
        "  return sentence.replace(\" DE \", \" \")\n",
        "\n",
        "def replace_wrong_words(sentence):\n",
        "  result = sentence\n",
        "  wrong_words_dict = {\n",
        "      '3DEG ': '',\n",
        "      ' PRIMARIA ': ' ', # Hay ciertas carreras que tienen esta palabra extra\n",
        "      ' PRIMARIA:': ' ',\n",
        "      'INGENIER?A': 'INGENIERIA',\n",
        "      'II': 'I',\n",
        "      'EDUCACI?N': 'EDUCACION',\n",
        "      'F?SICA': 'FISICA',\n",
        "      'RECREACI?N': 'RECREACION',\n",
        "      '?NFASIS': 'ENFASIS',\n",
        "      'INGL?S': 'INGLES',\n",
        "      'DISE?O': 'DISENO',\n",
        "      'COMUNICACI?N': 'COMUNICACION',\n",
        "      'QU?MICA': 'QUIMICA',\n",
        "      'MATEM?TICAS': 'MATEMATICAS',\n",
        "      'EL?CTRICA': 'ELECTRICA',\n",
        "      'M?SICA': 'MUSICA',\n",
        "      'DISE??O': 'DISENO',\n",
        "      'COMUNICACI??N': 'COMUNICACION',\n",
        "      'QU?MICA': 'QUIMICA',\n",
        "      'GESTI?N': 'GESTION',\n",
        "      'GR??FICA': 'GRAFICA',\n",
        "      'B?SICA': 'BASICA',\n",
        "      'ADMINISTRACI?N': 'ADMINISTRACION',\n",
        "      'P?BLICA': 'PUBLICA',\n",
        "      'FARMAC?UTICA': 'FARMACEUTICA',\n",
        "      'FILOSOF?A': 'FILOSOFIA',\n",
        "      'ESC?NICAS': 'ESCENICAS',\n",
        "      'ECONOM?A': 'ECONOMIA',\n",
        "      'GASTRONOM?A': 'GASTRONOMIA',\n",
        "      'GEOLOG?A': 'GEOLOGIA',\n",
        "      'LOG?STICA': 'LOGISTICA',\n",
        "      'ART?STICA': 'ARTISTICA',\n",
        "      'PEDAGOG?A': 'PEDAGOGIA',\n",
        "      ' DE ': ' ',\n",
        "      ' EN ': ' ',\n",
        "      '  ': ' ',\n",
        "      '.': '',\n",
        "      '- ': ' ',\n",
        "  }\n",
        "  for wrong, well in wrong_words_dict.items():\n",
        "    if wrong in result: result = result.replace(wrong, well)\n",
        "  return result"
      ],
      "metadata": {
        "id": "FoVkjy7v5J5u"
      },
      "execution_count": null,
      "outputs": []
    },
    {
      "cell_type": "markdown",
      "source": [
        "#### Eliminación de columnas con más correlación"
      ],
      "metadata": {
        "id": "ml66F2sx5uzZ"
      }
    },
    {
      "cell_type": "markdown",
      "source": [
        "### Entrenamiento"
      ],
      "metadata": {
        "id": "MfiHlCVSAGlp"
      }
    },
    {
      "cell_type": "code",
      "source": [
        "def format_df(dataframe):\n",
        "  students_df = dataframe.drop(['ID'], axis=1)\n",
        "  students_df = students_df.fillna('Miss')\n",
        "  columns_to_onehot =[\n",
        "    'FAMI_TIENEINTERNET',\n",
        "    'ESTU_PAGOMATRICULAPROPIO',\n",
        "  ]\n",
        "  onehoted_df = students_df.copy()\n",
        "  for col in columns_to_onehot:\n",
        "    onehoted_df = replace_column_with_onehot(onehoted_df, col)\n",
        "  onehoted_df\n",
        "\n",
        "  onehoted_df = onehoted_df.drop(['FAMI_TIENEINTERNET_Miss'], axis=1)\n",
        "  onehoted_df\n",
        "\n",
        "  data_matricula_dict = {\n",
        "    'Miss': 0,\n",
        "    'No pagó matrícula': 1,\n",
        "    'Menos de 500 mil': 2,\n",
        "    'Entre 500 mil y menos de 1 millón': 3,\n",
        "    'Entre 1 millón y menos de 2.5 millones': 4,\n",
        "    'Entre 2.5 millones y menos de 4 millones': 5,\n",
        "    'Entre 4 millones y menos de 5.5 millones': 6,\n",
        "    'Entre 5.5 millones y menos de 7 millones': 7,\n",
        "    'Más de 7 millones': 8,\n",
        " }\n",
        "\n",
        "  data_working_hours_dict = {\n",
        "      'Miss': 0,\n",
        "      '0': 1,\n",
        "      'Menos de 10 horas': 2,\n",
        "      'Entre 11 y 20 horas': 3,\n",
        "      'Entre 21 y 30 horas': 4,\n",
        "      'Más de 30 horas': 5,\n",
        "  }\n",
        "\n",
        "  data_estrato_dict = {\n",
        "      'Miss': -1,\n",
        "      'Sin Estrato': 0,\n",
        "      'Estrato 1': 1,\n",
        "      'Estrato 2': 2,\n",
        "      'Estrato 3': 3,\n",
        "      'Estrato 4': 4,\n",
        "      'Estrato 5': 5,\n",
        "      'Estrato 6': 6,\n",
        "  }\n",
        "\n",
        "  data_education_dict = {\n",
        "      'Miss': -2,\n",
        "      'No Aplica': -1,\n",
        "      'Ninguno': 0,\n",
        "      'No sabe': 1,\n",
        "      'Primaria incompleta': 2,\n",
        "      'Primaria completa': 3,\n",
        "      'Secundaria (Bachillerato) incompleta': 4,\n",
        "      'Secundaria (Bachillerato) completa': 5,\n",
        "      'Técnica o tecnológica incompleta': 6,\n",
        "      'Técnica o tecnológica completa': 7,\n",
        "      'Educación profesional incompleta': 8,\n",
        "      'Educación profesional completa': 9,\n",
        "      'Postgrado': 10,\n",
        "  }\n",
        "\n",
        "  data_performance_dict = {\n",
        "      'bajo': 1,\n",
        "      'medio-bajo': 2,\n",
        "      'medio-alto': 3,\n",
        "      'alto': 4,\n",
        "  }\n",
        "\n",
        "  onehoted_df = replace_category_for_numbers(\n",
        "      onehoted_df,\n",
        "      \"ESTU_VALORMATRICULAUNIVERSIDAD\",\n",
        "      data_matricula_dict)\n",
        "\n",
        "  onehoted_df = replace_category_for_numbers(\n",
        "      onehoted_df,\n",
        "      \"ESTU_HORASSEMANATRABAJA\",\n",
        "      data_working_hours_dict)\n",
        "\n",
        "  onehoted_df = replace_category_for_numbers(\n",
        "      onehoted_df,\n",
        "      \"FAMI_ESTRATOVIVIENDA\",\n",
        "      data_estrato_dict)\n",
        "\n",
        "  onehoted_df = replace_category_for_numbers(\n",
        "      onehoted_df,\n",
        "      \"FAMI_EDUCACIONPADRE\",\n",
        "      data_education_dict)\n",
        "\n",
        "  onehoted_df = replace_category_for_numbers(\n",
        "      onehoted_df,\n",
        "      \"FAMI_EDUCACIONMADRE\",\n",
        "      data_education_dict)\n",
        "  if \"RENDIMIENTO_GLOBAL\" in onehoted_df.columns:\n",
        "    onehoted_df = replace_category_for_numbers(\n",
        "        onehoted_df,\n",
        "        \"RENDIMIENTO_GLOBAL\",\n",
        "        data_performance_dict)\n",
        "  onehoted_df[\"ESTU_PRGM_ACADEMICO\"] = onehoted_df[\"ESTU_PRGM_ACADEMICO\"].map(unidecode.unidecode)\n",
        "  onehoted_df[\"ESTU_PRGM_ACADEMICO\"] = onehoted_df[\"ESTU_PRGM_ACADEMICO\"].map(lambda sentence: sentence.upper())\n",
        "  onehoted_df[\"ESTU_PRGM_ACADEMICO\"] = onehoted_df[\"ESTU_PRGM_ACADEMICO\"].map(replace_wrong_words)\n",
        "  onehoted_df[\"ESTU_PRGM_DEPARTAMENTO\"] = onehoted_df[\"ESTU_PRGM_DEPARTAMENTO\"].map(unidecode.unidecode)\n",
        "  onehoted_df\n",
        "\n",
        "  final_student_df = replace_column_with_onehot(onehoted_df, 'ESTU_PRGM_DEPARTAMENTO')\n",
        "  final_student_df['ESTU_PRGM_ACADEMICO'] = final_student_df['ESTU_PRGM_ACADEMICO'].astype('category').cat.codes\n",
        "  final_student_df\n",
        "\n",
        "  return final_student_df\n",
        "\n"
      ],
      "metadata": {
        "id": "M2E8BapUMi0q"
      },
      "execution_count": null,
      "outputs": []
    },
    {
      "cell_type": "code",
      "source": [
        "final_student_df = format_df(students_df)\n",
        "\n",
        "y = final_student_df[\"RENDIMIENTO_GLOBAL\"].values\n",
        "X = final_student_df.drop(['RENDIMIENTO_GLOBAL'], axis=1)\n",
        "del final_student_df\n",
        "print (X.shape, y.shape)"
      ],
      "metadata": {
        "colab": {
          "base_uri": "https://localhost:8080/"
        },
        "id": "4jf8FRqkAFcS",
        "outputId": "e42f85e8-b501-42cd-ca9c-f16bb78fb9f8"
      },
      "execution_count": null,
      "outputs": [
        {
          "output_type": "stream",
          "name": "stderr",
          "text": [
            "<ipython-input-13-c60f1fe5cfb2>:17: FutureWarning: Downcasting behavior in `replace` is deprecated and will be removed in a future version. To retain the old behavior, explicitly call `result.infer_objects(copy=False)`. To opt-in to the future behavior, set `pd.set_option('future.no_silent_downcasting', True)`\n",
            "  r[col] = r[col].replace(vals_to_change.keys(), vals_to_change.values())\n"
          ]
        },
        {
          "output_type": "stream",
          "name": "stdout",
          "text": [
            "(692500, 43) (692500,)\n"
          ]
        }
      ]
    },
    {
      "cell_type": "code",
      "source": [
        "from sklearn.model_selection import train_test_split, GridSearchCV\n",
        "from sklearn.metrics import accuracy_score, classification_report\n",
        "\n",
        "def fit_and_score(estimator, X, y, test_size):\n",
        "    \"\"\"Fit the estimator on the train set and score it on both sets\"\"\"\n",
        "    X_train, X_test, y_train, y_test = train_test_split(X, y, test_size=0.3, random_state=42)\n",
        "    estimator.fit(X_train, y_train)\n",
        "\n",
        "    train_score = estimator.score(X_train, y_train)\n",
        "    test_score = estimator.score(X_test, y_test)\n",
        "\n",
        "    y_pred = estimator.predict(X_test)\n",
        "    accuracy = accuracy_score(y_test, y_pred)\n",
        "    report = classification_report(y_test, y_pred)\n",
        "\n",
        "    return estimator, train_score, test_score, accuracy, report"
      ],
      "metadata": {
        "id": "QW1HWy_Q8Qy9"
      },
      "execution_count": null,
      "outputs": []
    },
    {
      "cell_type": "code",
      "source": [
        "from sklearn.tree import DecisionTreeClassifier\n",
        "\n",
        "param_grid = {\n",
        "    'criterion': ['gini', 'entropy'],\n",
        "    'splitter': ['best', 'random'],\n",
        "    'max_depth': [None, 10],\n",
        "    'min_samples_split': [2, 5, 10],\n",
        "    'min_samples_leaf': [2, 4],\n",
        "    'max_features': [None, 'sqrt', 'log2'],\n",
        "    'random_state': [42]\n",
        "}\n",
        "\n",
        "classifier = DecisionTreeClassifier(random_state=42)\n",
        "\n",
        "# Initialize GridSearchCV\n",
        "estimator = GridSearchCV(estimator=classifier, param_grid=param_grid,\n",
        "                           cv=3, n_jobs=-1, verbose=2, scoring='accuracy')\n",
        "estimator, train_score, test_score, accuracy, report = fit_and_score(estimator, X, y, 0.3)\n",
        "print(f\"Train Score: {train_score:.3f}\")\n",
        "print(f\"Test Score: {test_score:.3f}\")\n",
        "print(f\"Accuracy: {accuracy:.3f}\")\n",
        "print(\"Classification Report:\")\n",
        "print(report)"
      ],
      "metadata": {
        "colab": {
          "base_uri": "https://localhost:8080/"
        },
        "id": "vSTBaZjGpXaG",
        "outputId": "9858417a-7a3c-4246-8e80-7462e2d1105e"
      },
      "execution_count": null,
      "outputs": [
        {
          "output_type": "stream",
          "name": "stdout",
          "text": [
            "Fitting 3 folds for each of 144 candidates, totalling 432 fits\n",
            "Train Score: 0.404\n",
            "Test Score: 0.398\n",
            "Accuracy: 0.398\n",
            "Classification Report:\n",
            "              precision    recall  f1-score   support\n",
            "\n",
            "           1       0.41      0.54      0.46     51767\n",
            "           2       0.31      0.22      0.26     51712\n",
            "           3       0.30      0.23      0.26     51439\n",
            "           4       0.50      0.58      0.54     52832\n",
            "\n",
            "    accuracy                           0.40    207750\n",
            "   macro avg       0.38      0.40      0.38    207750\n",
            "weighted avg       0.38      0.40      0.38    207750\n",
            "\n"
          ]
        }
      ]
    },
    {
      "cell_type": "code",
      "source": [
        "final_student_df = format_df(test_df)\n",
        "\n",
        "X = final_student_df.copy()\n",
        "del final_student_df\n",
        "X = X.loc[:, ~X.columns.str.contains('^Unnamed')]\n",
        "y_predict = estimator.predict(X)\n"
      ],
      "metadata": {
        "colab": {
          "base_uri": "https://localhost:8080/"
        },
        "id": "L-yObVBDM0j7",
        "outputId": "0ba07f48-1425-497f-a8b4-93073e4aa80b"
      },
      "execution_count": null,
      "outputs": [
        {
          "output_type": "stream",
          "name": "stderr",
          "text": [
            "<ipython-input-13-c60f1fe5cfb2>:17: FutureWarning: Downcasting behavior in `replace` is deprecated and will be removed in a future version. To retain the old behavior, explicitly call `result.infer_objects(copy=False)`. To opt-in to the future behavior, set `pd.set_option('future.no_silent_downcasting', True)`\n",
            "  r[col] = r[col].replace(vals_to_change.keys(), vals_to_change.values())\n"
          ]
        }
      ]
    },
    {
      "cell_type": "code",
      "source": [
        "data_performance_dict = {\n",
        "      1: 'bajo',\n",
        "      2:'medio-bajo',\n",
        "      3:'medio-alto',\n",
        "      4:'alto',\n",
        "}\n",
        "y = list(map(lambda x: data_performance_dict[x], y_predict))\n",
        "index = list(X.index)\n",
        "response = pd.DataFrame({\n",
        "    'ID': index,\n",
        "    'RENDIMIENTO_GLOBAL': y\n",
        "}).set_index('ID')\n",
        "response.to_csv(\"out.csv\")"
      ],
      "metadata": {
        "id": "kc8np7T3PoV2"
      },
      "execution_count": null,
      "outputs": []
    },
    {
      "cell_type": "code",
      "source": [],
      "metadata": {
        "id": "TJ-69KeISw8i"
      },
      "execution_count": null,
      "outputs": []
    }
  ]
}